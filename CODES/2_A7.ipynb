{
  "nbformat": 4,
  "nbformat_minor": 0,
  "metadata": {
    "colab": {
      "provenance": []
    },
    "kernelspec": {
      "name": "python3",
      "display_name": "Python 3"
    },
    "language_info": {
      "name": "python"
    }
  },
  "cells": [
    {
      "cell_type": "code",
      "source": [
        "\"\"\" # A7.Data Normalization / Scaling: from the data study, identify the attributes which may need\n",
        "normalization. Employ appropriate normalization techniques to create normalized set of data.\"\"\"\n",
        "import pandas as pd\n",
        "import numpy as np\n",
        "import matplotlib.pyplot as plt\n",
        "import seaborn as sns\n",
        "from sklearn.preprocessing import MinMaxScaler , StandardScaler\n",
        "\n",
        "data = pd.DataFrame({\n",
        "    'A1': [100, 200, 0.023, 10, 1000]\n",
        "    'A2': [10, 15, 12, 0.05, 69]\n",
        "})\n",
        "\n",
        "attributes_to_normalize = ['A1', 'A2']\n",
        "\n",
        "\n",
        "min_max_scaler = MinMaxScaler()\n",
        "data[attributes_to_normalize] = min_max_scaler.fit_transform(data[attributes_to_normalize])\n",
        "\n",
        "standard_scaler = StandardScaler()\n",
        "data[attributes_to_normalize] = standard_scaler.fit_transform(data[attributes_to_normalize])\n",
        "\n",
        "\n",
        "print(\"Normalized Data:\")\n",
        "print(data)\n"
      ],
      "metadata": {
        "colab": {
          "base_uri": "https://localhost:8080/"
        },
        "id": "ffmxNcKSM-pa",
        "outputId": "385e399b-56a3-4cc3-90cf-9e9cc7df2987"
      },
      "execution_count": 4,
      "outputs": [
        {
          "output_type": "stream",
          "name": "stdout",
          "text": [
            "Normalized Data:\n",
            "         A1        A2\n",
            "0 -0.543193 -0.543193\n",
            "1 -0.312831 -0.312831\n",
            "2  1.990787  1.990787\n",
            "3 -0.568533 -0.568533\n",
            "4 -0.566229 -0.566229\n"
          ]
        }
      ]
    }
  ]
}