{
  "nbformat": 4,
  "nbformat_minor": 0,
  "metadata": {
    "colab": {
      "provenance": [],
      "gpuType": "T4"
    },
    "kernelspec": {
      "name": "python3",
      "display_name": "Python 3"
    },
    "language_info": {
      "name": "python"
    },
    "accelerator": "GPU"
  },
  "cells": [
    {
      "cell_type": "code",
      "source": [
        "# A5 For the clustering done in A4, calculate the: (i) Silhouette Score, (ii) CH Score and (iii) DB Index.\n",
        "\n",
        "import pandas as pd\n",
        "import numpy as np\n",
        "from sklearn.cluster import KMeans\n",
        "from sklearn.model_selection import train_test_split\n",
        "from sklearn.metrics import silhouette_score, calinski_harabasz_score, davies_bouldin_score\n",
        "\n",
        "# Loading the dataset\n",
        "df = pd.read_excel('/content/TRAINING_DATA.xlsx')\n",
        "\n",
        "# Defining the feature variables (all attributes except the target variable)\n",
        "X = df.drop(columns=['OUTPUT'])\n",
        "\n",
        "# Spliting the data into training and test sets\n",
        "X_train, X_test = train_test_split(X, test_size=0.2, random_state=42)\n",
        "\n",
        "# Performing k-means clustering with k=2\n",
        "kmeans = KMeans(n_clusters=2, random_state=42).fit(X_train)\n",
        "\n",
        "# Calculating the Silhouette Score\n",
        "silhouette = silhouette_score(X_train, kmeans.labels_)\n",
        "print(\"Silhouette Score\\n\", silhouette)\n",
        "\n",
        "# Calculating the CH Score\n",
        "ch_score = calinski_harabasz_score(X_train, kmeans.labels_)\n",
        "print(\"CH Score\\n\", ch_score)\n",
        "\n",
        "# Calculating the DB Index\n",
        "db_index = davies_bouldin_score(X_train, kmeans.labels_)\n",
        "print(\"DB Index\\n\", db_index)"
      ],
      "metadata": {
        "colab": {
          "base_uri": "https://localhost:8080/"
        },
        "id": "DTYm4fbSfWSg",
        "outputId": "919cffb0-4503-4e7b-8496-edbf6962b127"
      },
      "execution_count": 14,
      "outputs": [
        {
          "output_type": "stream",
          "name": "stderr",
          "text": [
            "/usr/local/lib/python3.10/dist-packages/sklearn/cluster/_kmeans.py:1416: FutureWarning: The default value of `n_init` will change from 10 to 'auto' in 1.4. Set the value of `n_init` explicitly to suppress the warning\n",
            "  super()._check_params_vs_input(X, default_n_init=10)\n"
          ]
        },
        {
          "output_type": "stream",
          "name": "stdout",
          "text": [
            "Silhouette Score\n",
            " 0.09997725181257422\n",
            "CH Score\n",
            " 105.98563379659078\n",
            "DB Index\n",
            " 2.563729128055641\n"
          ]
        }
      ]
    }
  ]
}