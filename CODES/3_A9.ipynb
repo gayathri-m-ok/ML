{
  "cells": [
    {
      "cell_type": "code",
      "source": [
        "# A9 evaluate confusion matrix for your classification problem.\n",
        "import pandas as pd\n",
        "import numpy as np\n",
        "from sklearn.neighbors import KNeighborsClassifier\n",
        "from sklearn.preprocessing import LabelEncoder\n",
        "from sklearn.metrics import accuracy_score, classification_report, confusion_matrix\n",
        "\n",
        "df = pd.read_excel(\"/content/TRAINING_DATA.xlsx\")\n",
        "\n",
        "y = df.iloc[:, -1]\n",
        "X = df.iloc[:, :-1]\n",
        "\n",
        "if y.dtype != object:\n",
        "    le = LabelEncoder()\n",
        "    le.fit(y)\n",
        "    y = le.transform(y)\n",
        "\n",
        "classes = np.unique(y)\n",
        "if len(classes) > 2:\n",
        "    print(\"more than two classes so selecting two classes for now\")\n",
        "    class1, class2 = classes[0], classes[1]\n",
        "    X = X[(y == class1) | (y == class2)]\n",
        "    y = y[(y == class1) | (y == class2)]\n",
        "\n",
        "\n",
        "df_test = pd.read_excel(\"/content/TRAINING_DATA.xlsx\")\n",
        "y_test = df_test.iloc[:, -1]\n",
        "X_test = df_test.iloc[:, :-1]\n",
        "\n",
        "if y_test.dtype != object:\n",
        "    le = LabelEncoder()\n",
        "    le.fit(y_test)\n",
        "    y_test = le.transform(y_test)\n",
        "\n",
        "classes = np.unique(y_test)\n",
        "if len(classes) > 2:\n",
        "    print(\"more than two classes so selecting two classes for now\")\n",
        "    class1, class2 = classes[0], classes[1]\n",
        "    X_test = X_test[(y_test == class1) | (y_test == class2)]\n",
        "    y_test = y_test[(y_test == class1) | (y_test == class2)]\n",
        "\n",
        "\n",
        "neigh = KNeighborsClassifier(n_neighbors=3)\n",
        "neigh.fit(X, y)\n",
        "\n",
        "# Evaluating on training data\n",
        "y_pred_train = neigh.predict(X)\n",
        "print(\"Confusion matrix on training data \\n\")\n",
        "print(confusion_matrix(y, y_pred_train))\n",
        "print(\"Classification report on training data \\n\")\n",
        "print(classification_report(y, y_pred_train))\n",
        "\n",
        "# Evaluating on test data\n",
        "y_pred_test = neigh.predict(X_test)\n",
        "print(\"Confusion matrix on test data \\n\")\n",
        "print(confusion_matrix(y_test, y_pred_test))\n",
        "print(\"Classification report on test data \\n\")\n",
        "print(classification_report(y_test, y_pred_test))\n",
        "print(\"the model is overfit\\n\")"
      ],
      "metadata": {
        "colab": {
          "base_uri": "https://localhost:8080/"
        },
        "id": "5dCsGps3OpFV",
        "outputId": "01be4b7a-5a1c-4b30-db70-eee7cadd309b"
      },
      "execution_count": 61,
      "outputs": [
        {
          "output_type": "stream",
          "name": "stdout",
          "text": [
            "more than two classes so selecting two classes for now\n",
            "more than two classes so selecting two classes for now\n",
            "Confusion matrix on training data \n",
            "\n",
            "[[10  0]\n",
            " [ 1  1]]\n",
            "Classification report on training data \n",
            "\n",
            "              precision    recall  f1-score   support\n",
            "\n",
            "           0       0.91      1.00      0.95        10\n",
            "           1       1.00      0.50      0.67         2\n",
            "\n",
            "    accuracy                           0.92        12\n",
            "   macro avg       0.95      0.75      0.81        12\n",
            "weighted avg       0.92      0.92      0.90        12\n",
            "\n",
            "Confusion matrix on test data \n",
            "\n",
            "[[10  0]\n",
            " [ 1  1]]\n",
            "Classification report on test data \n",
            "\n",
            "              precision    recall  f1-score   support\n",
            "\n",
            "           0       0.91      1.00      0.95        10\n",
            "           1       1.00      0.50      0.67         2\n",
            "\n",
            "    accuracy                           0.92        12\n",
            "   macro avg       0.95      0.75      0.81        12\n",
            "weighted avg       0.92      0.92      0.90        12\n",
            "\n",
            "the model is overfit\n",
            "\n"
          ]
        }
      ]
    }
  ],
  "metadata": {
    "accelerator": "GPU",
    "colab": {
      "gpuType": "T4",
      "provenance": []
    },
    "kernelspec": {
      "display_name": "Python 3",
      "name": "python3"
    },
    "language_info": {
      "name": "python"
    }
  },
  "nbformat": 4,
  "nbformat_minor": 0
}