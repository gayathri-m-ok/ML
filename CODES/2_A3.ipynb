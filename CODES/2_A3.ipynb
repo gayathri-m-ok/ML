{
  "nbformat": 4,
  "nbformat_minor": 0,
  "metadata": {
    "colab": {
      "provenance": []
    },
    "kernelspec": {
      "name": "python3",
      "display_name": "Python 3"
    },
    "language_info": {
      "name": "python"
    }
  },
  "cells": [
    {
      "cell_type": "code",
      "source": [
        "\"\"\" Mark all customers (in “Purchase Data” table) with payments above Rs. 200 as RICH and others\n",
        "as POOR. Develop a classifier model to categorize customers into RICH or POOR class based on\n",
        "purchase behavior. \"\"\"\n",
        "\n",
        "# A3\n",
        "import pandas as pd\n",
        "import numpy as np\n",
        "df = pd.read_excel(\"/content/purchase_data.xlsx\")\n",
        "\n",
        "df = df.dropna(axis=1)\n",
        "\n",
        "A = df.iloc[:, 1:4].to_numpy()\n",
        "\n",
        "C = df.iloc[:, 4].to_numpy()\n",
        "\n",
        "A_inverse = np.linalg.pinv(A)\n",
        "\n",
        "model_vector_X = np.matmul(A_inverse, C)\n",
        "\n",
        "print(\"Model vector X for predicting product costs \\n\")\n",
        "print(model_vector_X)\n",
        "\n",
        "\n",
        "df['rich/poor'] = np.where(df['Payment (Rs)'] > 200, 'Rich', 'Poor')\n",
        "\n",
        "print(df)\n",
        "\n",
        "\n",
        "\n"
      ],
      "metadata": {
        "colab": {
          "base_uri": "https://localhost:8080/"
        },
        "id": "34pnSMA3TlOy",
        "outputId": "58c113fa-08a2-4ec3-a253-834d182bba70"
      },
      "execution_count": 2,
      "outputs": [
        {
          "output_type": "stream",
          "name": "stdout",
          "text": [
            "Model vector X for predicting product costs \n",
            "\n",
            "[ 1. 55. 18.]\n",
            "  Customer  Candies (#)  Mangoes (Kg)  Milk Packets (#)  Payment (Rs)  \\\n",
            "0      C_1           20             6                 2           386   \n",
            "1      C_2           16             3                 6           289   \n",
            "2      C_3           27             6                 2           393   \n",
            "3      C_4           19             1                 2           110   \n",
            "4      C_5           24             4                 2           280   \n",
            "5      C_6           22             1                 5           167   \n",
            "6      C_7           15             4                 2           271   \n",
            "7      C_8           18             4                 2           274   \n",
            "8      C_9           21             1                 4           148   \n",
            "9     C_10           16             2                 4           198   \n",
            "\n",
            "  rich/poor  \n",
            "0      Rich  \n",
            "1      Rich  \n",
            "2      Rich  \n",
            "3      Poor  \n",
            "4      Rich  \n",
            "5      Poor  \n",
            "6      Rich  \n",
            "7      Rich  \n",
            "8      Poor  \n",
            "9      Poor  \n"
          ]
        }
      ]
    }
  ]
}