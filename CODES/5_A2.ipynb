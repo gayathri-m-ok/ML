{
  "nbformat": 4,
  "nbformat_minor": 0,
  "metadata": {
    "colab": {
      "provenance": [],
      "gpuType": "T4"
    },
    "kernelspec": {
      "name": "python3",
      "display_name": "Python 3"
    },
    "language_info": {
      "name": "python"
    },
    "accelerator": "GPU"
  },
  "cells": [
    {
      "cell_type": "code",
      "execution_count": 4,
      "metadata": {
        "colab": {
          "base_uri": "https://localhost:8080/"
        },
        "id": "-SpG2NRQYX80",
        "outputId": "8e7b3fd0-393e-4c71-87ff-5d3ea9b7a50d"
      },
      "outputs": [
        {
          "output_type": "stream",
          "name": "stdout",
          "text": [
            "Training metrics\n",
            "\n",
            "MSE: 1.32\n",
            "RMSE: 1.15\n",
            "MAPE: 136413459216867.97%\n",
            "R2: 0.03\n",
            "\n",
            "Test metrics\n",
            "\n",
            "MSE: 1.37\n",
            "RMSE: 1.17\n",
            "MAPE: 61523974522849.21%\n",
            "R2: 0.01\n"
          ]
        }
      ],
      "source": [
        "# A2 Perform prediction on the test data and compare the metric values between train and test set.\n",
        "\n",
        "import pandas as pd\n",
        "import numpy as np\n",
        "from sklearn.model_selection import train_test_split\n",
        "from sklearn.linear_model import LinearRegression\n",
        "from sklearn.metrics import mean_squared_error, mean_absolute_percentage_error, r2_score\n",
        "\n",
        "# Loading the dataset\n",
        "df = pd.read_excel('/content/TRAINING_DATA.xlsx')\n",
        "\n",
        "# Defining the feature and target variables\n",
        "X = df[['embed_0', 'embed_1', 'embed_2']]  # feature variables\n",
        "y = df['OUTPUT']  # target variable\n",
        "\n",
        "# Spliting the data into training and test sets\n",
        "X_train, X_test, y_train, y_test = train_test_split(X, y, test_size=0.2, random_state=42)\n",
        "\n",
        "# Creating and train a multiple linear regression model\n",
        "reg = LinearRegression()\n",
        "reg.fit(X_train, y_train)\n",
        "\n",
        "# Making predictions on the training data\n",
        "y_train_pred = reg.predict(X_train)\n",
        "\n",
        "# Calculating metrics for the training data\n",
        "mse_train = mean_squared_error(y_train, y_train_pred)\n",
        "rmse_train = mse_train ** 0.5\n",
        "mape_train = mean_absolute_percentage_error(y_train, y_train_pred)\n",
        "r2_train = r2_score(y_train, y_train_pred)\n",
        "\n",
        "print(\"Training metrics\\n\")\n",
        "print(f\"MSE: {mse_train:.2f}\")\n",
        "print(f\"RMSE: {rmse_train:.2f}\")\n",
        "print(f\"MAPE: {mape_train:.2f}%\")\n",
        "print(f\"R2: {r2_train:.2f}\")\n",
        "\n",
        "# Making predictions on the test data\n",
        "y_test_pred = reg.predict(X_test)\n",
        "\n",
        "# Calculating metrics for the test data\n",
        "mse_test = mean_squared_error(y_test, y_test_pred)\n",
        "rmse_test = mse_test ** 0.5\n",
        "mape_test = mean_absolute_percentage_error(y_test, y_test_pred)\n",
        "r2_test = r2_score(y_test, y_test_pred)\n",
        "\n",
        "print(\"\\nTest metrics\\n\")\n",
        "print(f\"MSE: {mse_test:.2f}\")\n",
        "print(f\"RMSE: {rmse_test:.2f}\")\n",
        "print(f\"MAPE: {mape_test:.2f}%\")\n",
        "print(f\"R2: {r2_test:.2f}\")"
      ]
    }
  ]
}