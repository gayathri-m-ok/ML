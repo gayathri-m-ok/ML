{
  "nbformat": 4,
  "nbformat_minor": 0,
  "metadata": {
    "colab": {
      "provenance": [],
      "gpuType": "T4"
    },
    "kernelspec": {
      "name": "python3",
      "display_name": "Python 3"
    },
    "language_info": {
      "name": "python"
    },
    "accelerator": "GPU"
  },
  "cells": [
    {
      "cell_type": "code",
      "source": [
        "# A8\n",
        "import pandas as pd\n",
        "import numpy as np\n",
        "\n",
        "v1 = [1, 0, 1, 0, 1]\n",
        "v2 = [0, 1, 1, 1, 0]\n",
        "\n",
        "\n",
        "f11 = sum([1 for x, y in zip(v1, v2) if x == 1 and y == 1])\n",
        "f01 = sum([1 for x, y in zip(v1, v2) if x == 0 and y == 1])\n",
        "f10 = sum([1 for x, y in zip(v1, v2) if x == 1 and y == 0])\n",
        "f00 = sum([1 for x, y in zip(v1, v2) if x == 0 and y == 0])\n",
        "\n",
        "\n",
        "Jaccard_Coefficient = f11 / (f01 + f10 + f11)\n",
        "\n",
        "Simple_Matching_Coefficient  = (f11 + f00) / (f00 + f01 + f10 + f11)\n",
        "\n",
        "# Print the results\n",
        "print(\"Jaccard Coefficient (JC):\", Jaccard_Coefficient)\n",
        "print(\"Simple Matching Coefficient (SMC):\", Simple_Matching_Coefficient)\n"
      ],
      "metadata": {
        "colab": {
          "base_uri": "https://localhost:8080/"
        },
        "id": "xLZZ0A1KOfbp",
        "outputId": "d8984e96-369a-4725-e014-75a5258a1c95"
      },
      "execution_count": 2,
      "outputs": [
        {
          "output_type": "stream",
          "name": "stdout",
          "text": [
            "Jaccard Coefficient (JC): 0.2\n",
            "Simple Matching Coefficient (SMC): 0.2\n"
          ]
        }
      ]
    }
  ]
}