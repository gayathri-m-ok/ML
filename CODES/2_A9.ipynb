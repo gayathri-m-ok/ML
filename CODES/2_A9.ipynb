{
  "nbformat": 4,
  "nbformat_minor": 0,
  "metadata": {
    "colab": {
      "provenance": [],
      "gpuType": "T4"
    },
    "kernelspec": {
      "name": "python3",
      "display_name": "Python 3"
    },
    "language_info": {
      "name": "python"
    },
    "accelerator": "GPU"
  },
  "cells": [
    {
      "cell_type": "code",
      "source": [
        "# A9. Cosine Similarity Measure\n",
        "import pandas as pd\n",
        "import numpy as np\n",
        "from sklearn.metrics.pairwise import cosine_similarity\n",
        "\n",
        "# Sample data for two vectors\n",
        "\n",
        "data = [\n",
        "    [1, 0.2, 0.5, 0.3],\n",
        "    [0.5, 0.7, 0.8, 0.9],\n",
        "\n",
        "]\n",
        "\n",
        "vector1 = np.array(data[0])\n",
        "vector2 = np.array(data[1])\n",
        "\n",
        "dot_product = np.dot(vector1, vector2)\n",
        "\n",
        "norm_vector1 = np.linalg.norm(vector1)\n",
        "norm_vector2 = np.linalg.norm(vector2)\n",
        "\n",
        "cosine_similarity = dot_product / (norm_vector1 * norm_vector2)\n",
        "\n",
        "print(\"Cosine Similarity:\", cosine_similarity)"
      ],
      "metadata": {
        "colab": {
          "base_uri": "https://localhost:8080/"
        },
        "id": "PK9K_BjbPwl6",
        "outputId": "214cc5c1-e5bd-4064-ab2d-85daefc18386"
      },
      "execution_count": 3,
      "outputs": [
        {
          "output_type": "stream",
          "name": "stdout",
          "text": [
            "Cosine Similarity: 0.7535458719368691\n"
          ]
        }
      ]
    }
  ]
}