{
  "cells": [
    {
      "cell_type": "code",
      "source": [
        "# A5 Train a kNN classifier (k =3) using the training set obtained from above exercise\n",
        "\n",
        "import pandas as pd\n",
        "import numpy as np\n",
        "from sklearn.neighbors import KNeighborsClassifier\n",
        "from sklearn.preprocessing import LabelEncoder\n",
        "from sklearn.metrics import accuracy_score, classification_report, confusion_matrix\n",
        "import matplotlib.pyplot as plt\n",
        "import seaborn as sns\n",
        "\n",
        "df = pd.read_excel(\"/content/TRAINING_DATA.xlsx\")\n",
        "\n",
        "\n",
        "y = df.iloc[:, -1]\n",
        "\n",
        "X = df.iloc[:, :-1]\n",
        "\n",
        "if y.dtype != object:\n",
        "    le = LabelEncoder()\n",
        "    y = le.fit_transform(y)\n",
        "\n",
        "classes = np.unique(y)\n",
        "if len(classes) > 2:\n",
        "    print(\"more than two classes are there so selecting two classes for now\")\n",
        "    class1, class2 = classes[0], classes[1]\n",
        "    X = X[(y == class1) | (y == class2)]\n",
        "    y = y[(y == class1) | (y == class2)]\n",
        "\n",
        "\n",
        "neigh = KNeighborsClassifier(n_neighbors=3)\n",
        "\n",
        "\n",
        "neigh.fit(X, y)\n",
        "\n",
        "print(\" \\n kNN classifier trained with k=3\")\n",
        "y_pred = neigh.predict(X)\n",
        "\n",
        "\n",
        "accuracy = accuracy_score(y, y_pred)\n",
        "print(\"Accuracy \\n\", accuracy)\n",
        "\n",
        "\n",
        "report = classification_report(y, y_pred)\n",
        "print(\"Classification Report \\n\", report)\n",
        "\n",
        "\n",
        "\n",
        "\n",
        "conf_mat = confusion_matrix(y, y_pred)\n",
        "\n",
        "plt.figure(figsize=(5, 3))\n",
        "sns.heatmap(conf_mat, annot=True, fmt=\"d\", cmap=\"Blues\")\n",
        "plt.xlabel(\"Predicted\")\n",
        "plt.ylabel(\"True\")\n",
        "plt.title(\"Confusion Matrix\")\n",
        "plt.show()"
      ],
      "metadata": {
        "colab": {
          "base_uri": "https://localhost:8080/",
          "height": 593
        },
        "id": "Q92wm5FBFFsz",
        "outputId": "0e428c92-b6c8-495e-957a-f3f60e62a1df"
      },
      "execution_count": 46,
      "outputs": [
        {
          "output_type": "stream",
          "name": "stdout",
          "text": [
            "more than two classes are there so selecting two classes for now\n",
            " \n",
            " kNN classifier trained with k=3\n",
            "Accuracy \n",
            " 0.9166666666666666\n",
            "Classification Report \n",
            "               precision    recall  f1-score   support\n",
            "\n",
            "           0       0.91      1.00      0.95        10\n",
            "           1       1.00      0.50      0.67         2\n",
            "\n",
            "    accuracy                           0.92        12\n",
            "   macro avg       0.95      0.75      0.81        12\n",
            "weighted avg       0.92      0.92      0.90        12\n",
            "\n"
          ]
        },
        {
          "output_type": "display_data",
          "data": {
            "text/plain": [
              "<Figure size 500x300 with 2 Axes>"
            ],
            "image/png": "[encoded data removed]"
          },
          "metadata": {}
        }
      ]
    }
  ],
  "metadata": {
    "accelerator": "GPU",
    "colab": {
      "gpuType": "T4",
      "provenance": []
    },
    "kernelspec": {
      "display_name": "Python 3",
      "name": "python3"
    },
    "language_info": {
      "name": "python"
    }
  },
  "nbformat": 4,
  "nbformat_minor": 0
}