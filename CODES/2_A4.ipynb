{
  "nbformat": 4,
  "nbformat_minor": 0,
  "metadata": {
    "colab": {
      "provenance": []
    },
    "kernelspec": {
      "name": "python3",
      "display_name": "Python 3"
    },
    "language_info": {
      "name": "python"
    }
  },
  "cells": [
    {
      "cell_type": "code",
      "source": [
        "#  A4 the data present in “IRCTC Stock Price” data sheet\n",
        "import pandas as pd\n",
        "import numpy as np\n",
        "df = pd.read_excel(\"/content/Lab Session Data.xlsx\", sheet_name =\"IRCTC Stock Price\")\n",
        "print (df)"
      ],
      "metadata": {
        "colab": {
          "base_uri": "https://localhost:8080/"
        },
        "id": "xbVO0jLmYc2P",
        "outputId": "bb6ef5b2-84ea-471e-ef89-9defb935afe5"
      },
      "execution_count": 7,
      "outputs": [
        {
          "output_type": "stream",
          "name": "stdout",
          "text": [
            "             Date Month  Day    Price     Open     High      Low   Volume  \\\n",
            "0    Jun 29, 2021   Jun  Tue  2081.85  2092.00  2126.90  2065.05    1.67M   \n",
            "1    Jun 28, 2021   Jun  Mon  2077.75  2084.00  2112.45  2068.40  707.73K   \n",
            "2    Jun 25, 2021   Jun  Fri  2068.85  2084.35  2088.50  2053.10  475.82K   \n",
            "3    Jun 24, 2021   Jun  Thu  2072.95  2098.00  2098.00  2066.00  541.51K   \n",
            "4    Jun 23, 2021   Jun  Wed  2078.25  2102.00  2111.40  2072.00  809.62K   \n",
            "..            ...   ...  ...      ...      ...      ...      ...      ...   \n",
            "244  Jul 07, 2020   Jul  Tue  1397.40  1410.00  1411.00  1390.05  480.21K   \n",
            "245  Jul 06, 2020   Jul  Mon  1400.75  1405.50  1415.50  1394.00  614.93K   \n",
            "246  Jul 03, 2020   Jul  Fri  1405.10  1415.00  1425.00  1398.00  599.49K   \n",
            "247  Jul 02, 2020   Jul  Thu  1412.35  1440.00  1467.80  1395.30    2.16M   \n",
            "248  Jul 01, 2020   Jul  Wed  1363.05  1363.65  1377.00  1356.00  383.00K   \n",
            "\n",
            "       Chg%  \n",
            "0    0.0020  \n",
            "1    0.0043  \n",
            "2   -0.0020  \n",
            "3   -0.0026  \n",
            "4   -0.0023  \n",
            "..      ...  \n",
            "244 -0.0024  \n",
            "245 -0.0031  \n",
            "246 -0.0051  \n",
            "247  0.0362  \n",
            "248  0.0032  \n",
            "\n",
            "[249 rows x 9 columns]\n"
          ]
        }
      ]
    },
    {
      "cell_type": "code",
      "source": [
        "# A4.1 Calculate the mean and variance of the Price data present in column D.\n",
        "import pandas as pd\n",
        "import statistics as st\n",
        "import numpy as np\n",
        "df = pd.read_excel(\"/content/Lab Session Data.xlsx\", sheet_name =\"IRCTC Stock Price\")\n",
        "\n",
        "column_name = 'Price'\n",
        "\n",
        "column_data = df[column_name]\n",
        "\n",
        "mean = st.mean(column_data)\n",
        "print(\"Mean:\", mean)\n",
        "\n",
        "variance = st.variance(column_data)\n",
        "print(\"Variance:\", variance)"
      ],
      "metadata": {
        "colab": {
          "base_uri": "https://localhost:8080/"
        },
        "id": "c_QAVRXmZGSO",
        "outputId": "33e82f33-d0fa-4379-df31-ebaf76f432e5"
      },
      "execution_count": 8,
      "outputs": [
        {
          "output_type": "stream",
          "name": "stdout",
          "text": [
            "Mean: 1560.663453815261\n",
            "Variance: 58732.365352539186\n"
          ]
        }
      ]
    },
    {
      "cell_type": "code",
      "source": [
        "\"\"\" A4.2 Select the price data for all Wednesdays and calculate the sample mean. Compare the mean\n",
        "with the population mean and note your observations \"\"\"\n",
        "\n",
        "import pandas as pd\n",
        "import numpy as np\n",
        "import statistics as st\n",
        "df = pd.read_excel(\"/content/Lab Session Data.xlsx\", sheet_name =\"IRCTC Stock Price\")\n",
        "df_wednesday = df[df['Day'] == 'Wed']\n",
        "print(df_wednesday)\n",
        "mean_wednesday =st.mean(df_wednesday['Price'])\n",
        "print(\"the corresponding mean is \\n\")\n",
        "mean_wednesday"
      ],
      "metadata": {
        "colab": {
          "base_uri": "https://localhost:8080/"
        },
        "id": "M28PFCLrZj_T",
        "outputId": "bcb41d04-8d7b-4d13-f74a-86c5e825a9bc"
      },
      "execution_count": 12,
      "outputs": [
        {
          "output_type": "stream",
          "name": "stdout",
          "text": [
            "             Date Month  Day    Price     Open     High      Low   Volume  \\\n",
            "4    Jun 23, 2021   Jun  Wed  2078.25  2102.00  2111.40  2072.00  809.62K   \n",
            "9    Jun 16, 2021   Jun  Wed  2089.95  2109.45  2121.95  2075.30  856.94K   \n",
            "14   Jun 09, 2021   Jun  Wed  2071.20  2160.00  2163.00  2060.00    2.34M   \n",
            "19   Jun 02, 2021   Jun  Wed  1917.95  1899.95  1927.50  1895.25  576.76K   \n",
            "24   May 26, 2021   May  Wed  1894.05  1920.00  1930.05  1888.00  922.76K   \n",
            "29   May 19, 2021   May  Wed  1858.10  1844.00  1884.95  1840.00    2.10M   \n",
            "33   May 12, 2021   May  Wed  1746.60  1799.00  1829.00  1732.80    1.63M   \n",
            "38   May 05, 2021   May  Wed  1723.65  1775.00  1782.95  1715.00    1.22M   \n",
            "43   Apr 28, 2021   Apr  Wed  1795.85  1800.00  1818.00  1775.00    1.54M   \n",
            "56   Apr 07, 2021   Apr  Wed  1709.00  1684.20  1721.40  1673.00    1.47M   \n",
            "60   Mar 31, 2021   Mar  Wed  1757.00  1758.70  1774.95  1735.00    1.09M   \n",
            "64   Mar 24, 2021   Mar  Wed  1760.55  1829.70  1836.80  1750.40    2.09M   \n",
            "69   Mar 17, 2021   Mar  Wed  1824.00  1905.00  1919.45  1801.00    2.36M   \n",
            "73   Mar 10, 2021   Mar  Wed  2018.50  2045.00  2047.80  2007.00    1.70M   \n",
            "78   Mar 03, 2021   Mar  Wed  1886.10  1899.00  1930.00  1880.00    1.83M   \n",
            "83   Feb 24, 2021   Feb  Wed  1675.45  1638.00  1697.00  1630.10  647.09K   \n",
            "88   Feb 17, 2021   Feb  Wed  1698.65  1672.00  1730.00  1657.00    2.09M   \n",
            "93   Feb 10, 2021   Feb  Wed  1618.40  1648.40  1674.00  1611.10    3.05M   \n",
            "98   Feb 03, 2021   Feb  Wed  1469.35  1477.40  1498.00  1462.15    1.86M   \n",
            "103  Jan 27, 2021   Jan  Wed  1438.25  1432.75  1443.65  1422.25  823.11K   \n",
            "107  Jan 20, 2021   Jan  Wed  1452.70  1450.00  1458.40  1437.00  574.12K   \n",
            "112  Jan 13, 2021   Jan  Wed  1461.15  1492.00  1493.55  1442.20    1.18M   \n",
            "117  Jan 06, 2021   Jan  Wed  1483.45  1461.95  1514.90  1449.00    4.24M   \n",
            "122  Dec 30, 2020   Dec  Wed  1434.95  1420.00  1443.00  1408.00    1.64M   \n",
            "126  Dec 23, 2020   Dec  Wed  1411.55  1404.40  1423.50  1379.05    1.63M   \n",
            "131  Dec 16, 2020   Dec  Wed  1423.40  1453.80  1455.90  1420.00    3.56M   \n",
            "136  Dec 09, 2020   Dec  Wed  1617.75  1666.60  1701.25  1601.00    3.69M   \n",
            "141  Dec 02, 2020   Dec  Wed  1349.90  1368.00  1368.80  1346.55  186.84K   \n",
            "145  Nov 25, 2020   Nov  Wed  1353.90  1370.00  1370.00  1353.00  189.93K   \n",
            "150  Nov 18, 2020   Nov  Wed  1365.30  1365.00  1370.95  1352.10  312.00K   \n",
            "154  Nov 11, 2020   Nov  Wed  1371.25  1398.00  1407.00  1343.00  611.90K   \n",
            "159  Nov 04, 2020   Nov  Wed  1300.55  1292.85  1308.80  1290.05  128.50K   \n",
            "164  Oct 28, 2020   Oct  Wed  1333.35  1324.00  1339.00  1310.00  185.02K   \n",
            "169  Oct 21, 2020   Oct  Wed  1331.75  1336.55  1343.90  1328.00  156.43K   \n",
            "174  Oct 14, 2020   Oct  Wed  1338.05  1350.00  1357.60  1331.00  346.04K   \n",
            "179  Oct 07, 2020   Oct  Wed  1356.90  1370.00  1376.50  1349.00  393.99K   \n",
            "183  Sep 30, 2020   Sep  Wed  1384.00  1383.40  1419.50  1368.70  637.11K   \n",
            "188  Sep 23, 2020   Sep  Wed  1372.85  1365.00  1380.00  1353.25  274.75K   \n",
            "193  Sep 16, 2020   Sep  Wed  1367.40  1376.00  1377.00  1364.00  232.14K   \n",
            "198  Sep 09, 2020   Sep  Wed  1348.90  1350.00  1358.70  1321.15    1.90M   \n",
            "203  Sep 02, 2020   Sep  Wed  1359.75  1363.00  1369.90  1353.10  246.51K   \n",
            "208  Aug 26, 2020   Aug  Wed  1369.30  1345.05  1387.20  1342.20    1.10M   \n",
            "213  Aug 19, 2020   Aug  Wed  1361.80  1386.00  1402.00  1338.00    1.28M   \n",
            "218  Aug 12, 2020   Aug  Wed  1386.80  1350.00  1414.00  1350.00    1.76M   \n",
            "223  Aug 05, 2020   Aug  Wed  1336.95  1345.00  1347.00  1335.00  221.23K   \n",
            "228  Jul 29, 2020   Jul  Wed  1352.75  1345.00  1369.00  1343.05  385.50K   \n",
            "233  Jul 22, 2020   Jul  Wed  1372.95  1395.00  1398.70  1370.00  458.14K   \n",
            "238  Jul 15, 2020   Jul  Wed  1351.95  1365.15  1379.00  1350.00  554.12K   \n",
            "243  Jul 08, 2020   Jul  Wed  1390.10  1397.00  1413.35  1384.60  472.31K   \n",
            "248  Jul 01, 2020   Jul  Wed  1363.05  1363.65  1377.00  1356.00  383.00K   \n",
            "\n",
            "       Chg%  \n",
            "4   -0.0023  \n",
            "9   -0.0038  \n",
            "14  -0.0343  \n",
            "19   0.0123  \n",
            "24  -0.0073  \n",
            "29   0.0126  \n",
            "33  -0.0255  \n",
            "38  -0.0263  \n",
            "43   0.0015  \n",
            "56   0.0121  \n",
            "60   0.0010  \n",
            "64  -0.0443  \n",
            "69  -0.0420  \n",
            "73  -0.0040  \n",
            "78  -0.0061  \n",
            "83   0.0261  \n",
            "88   0.0146  \n",
            "93  -0.0142  \n",
            "98  -0.0008  \n",
            "103  0.0084  \n",
            "107  0.0064  \n",
            "112 -0.0130  \n",
            "117  0.0183  \n",
            "122  0.0171  \n",
            "126  0.0089  \n",
            "131 -0.0122  \n",
            "136 -0.0187  \n",
            "141 -0.0060  \n",
            "145 -0.0062  \n",
            "150 -0.0109  \n",
            "154 -0.0023  \n",
            "159 -0.0007  \n",
            "164  0.0055  \n",
            "169 -0.0003  \n",
            "174  0.0012  \n",
            "179 -0.0051  \n",
            "183  0.0005  \n",
            "188  0.0127  \n",
            "193 -0.0018  \n",
            "198 -0.0221  \n",
            "203  0.0061  \n",
            "208  0.0205  \n",
            "213 -0.0115  \n",
            "218  0.0108  \n",
            "223 -0.0021  \n",
            "228  0.0054  \n",
            "233 -0.0124  \n",
            "238 -0.0075  \n",
            "243 -0.0052  \n",
            "248  0.0032  \n",
            "the corresponding mean is \n",
            "\n"
          ]
        },
        {
          "output_type": "execute_result",
          "data": {
            "text/plain": [
              "1550.706"
            ]
          },
          "metadata": {},
          "execution_count": 12
        }
      ]
    },
    {
      "cell_type": "code",
      "source": [
        "\"\"\"  # A4.3 Select the price data for the month of Apr and calculate the sample mean. Compare the\n",
        "mean with the population mean and note your observations. \"\"\"\n",
        "\n",
        "import pandas as pd\n",
        "import numpy as np\n",
        "import statistics as st\n",
        "df = pd.read_excel(\"/content/Lab Session Data.xlsx\", sheet_name =\"IRCTC Stock Price\")\n",
        "df_april = df[df['Month'] == 'Apr']\n",
        "\n",
        "# Calculate the sample mean for the month of April\n",
        "mean_april = st.mean(df_april['Price']) if not df_april.empty else \"No data for April\"\n",
        "print(\"the corresponding mean is \\n\")\n",
        "mean_april"
      ],
      "metadata": {
        "colab": {
          "base_uri": "https://localhost:8080/"
        },
        "id": "zmZuzCE-aZBt",
        "outputId": "01ab1136-6f71-445e-c5a8-5c4275c93e85"
      },
      "execution_count": 15,
      "outputs": [
        {
          "output_type": "stream",
          "name": "stdout",
          "text": [
            "the corresponding mean is \n",
            "\n"
          ]
        },
        {
          "output_type": "execute_result",
          "data": {
            "text/plain": [
              "1698.9526315789474"
            ]
          },
          "metadata": {},
          "execution_count": 15
        }
      ]
    },
    {
      "cell_type": "code",
      "source": [
        "# A4.4 From the Chg% (available in column I) find the probability of making a loss over the stock.\n",
        "\n",
        "import pandas as pd\n",
        "import numpy as np\n",
        "import statistics as st\n",
        "df = pd.read_excel(\"/content/Lab Session Data.xlsx\", sheet_name =\"IRCTC Stock Price\")\n",
        "total_days = len(df)\n",
        "loss_days = len(df[df['Chg%'] < 0])\n",
        "\n",
        "probability_loss = loss_days / total_days\n",
        "print(\"the probability loss is as follows\")\n",
        "probability_loss"
      ],
      "metadata": {
        "colab": {
          "base_uri": "https://localhost:8080/"
        },
        "id": "IidGkYJBbAUr",
        "outputId": "122c8fb3-4798-45a8-f5af-ade70389ffd7"
      },
      "execution_count": 16,
      "outputs": [
        {
          "output_type": "stream",
          "name": "stdout",
          "text": [
            "the probability loss is as follows\n"
          ]
        },
        {
          "output_type": "execute_result",
          "data": {
            "text/plain": [
              "0.4979919678714859"
            ]
          },
          "metadata": {},
          "execution_count": 16
        }
      ]
    },
    {
      "cell_type": "code",
      "source": [
        "# A4.5 Calculate the probability of making a profit on Wednesday\n",
        "\n",
        "import pandas as pd\n",
        "import numpy as np\n",
        "import statistics as st\n",
        "df = pd.read_excel(\"/content/Lab Session Data.xlsx\", sheet_name =\"IRCTC Stock Price\")\n",
        "profit_wed = df['Chg%'].loc[(df['Day'] == 'Wed') & (df['Chg%'] >0)].count()\n",
        "\n",
        "print(\"the probability of making a profit on Wednesday\\n\")\n",
        "profit_wed/total_days"
      ],
      "metadata": {
        "colab": {
          "base_uri": "https://localhost:8080/"
        },
        "id": "Wme9Hci_biex",
        "outputId": "28da0c81-05d4-4198-b71f-42512c99a4a5"
      },
      "execution_count": 18,
      "outputs": [
        {
          "output_type": "stream",
          "name": "stdout",
          "text": [
            "the probability of making a profit on Wednesday\n",
            "\n"
          ]
        },
        {
          "output_type": "execute_result",
          "data": {
            "text/plain": [
              "0.08433734939759036"
            ]
          },
          "metadata": {},
          "execution_count": 18
        }
      ]
    },
    {
      "cell_type": "code",
      "source": [
        "# A4.6 Calculate the conditional probability of making profit, given that today is Wednesday\n",
        "\n",
        "import pandas as pd\n",
        "import numpy as np\n",
        "import statistics as st\n",
        "df = pd.read_excel(\"/content/Lab Session Data.xlsx\", sheet_name =\"IRCTC Stock Price\")\n",
        "\n",
        "# Load the Excel file into a DataFrame\n",
        "df = pd.read_excel('/content/Lab Session Data.xlsx', sheet_name='IRCTC Stock Price')\n",
        "\n",
        "# Filter the data for Wednesdays\n",
        "wednesday_data = df[df['Day'] == 'Wednesday']\n",
        "\n",
        "# Calculate the total number of Wednesdays\n",
        "total_wednesdays = len(wednesday_data)\n",
        "\n",
        "# Calculate the total number of days in the dataset\n",
        "total_days = len(df)\n",
        "\n",
        "# Calculate the number of profitable Wednesdays\n",
        "profitable_wednesdays = len(wednesday_data[wednesday_data['Chg%'] > 0])\n",
        "\n",
        "# Calculate the probability that any given day is a Wednesday\n",
        "probability_wednesday = total_wednesdays / total_days\n",
        "\n",
        "# Calculate the joint probability that a day is both a Wednesday and a profitable day\n",
        "probability_profit_and_wednesday = profitable_wednesdays / total_days\n",
        "\n",
        "# Calculate the conditional probability of making a profit given that today is Wednesday\n",
        "conditional_probability_profit_given_wednesday = probability_profit_and_wednesday / probability_wednesday if probability_wednesday != 0 else 0\n",
        "\n",
        "print(f\"Conditional Probability of making profit given Wednesday: {conditional_probability_profit_given_wednesday:.2f}\")\n"
      ],
      "metadata": {
        "colab": {
          "base_uri": "https://localhost:8080/"
        },
        "id": "ol0UEOM6b5EZ",
        "outputId": "557a93dd-b694-4304-f2d6-b2414971f657"
      },
      "execution_count": 21,
      "outputs": [
        {
          "output_type": "stream",
          "name": "stdout",
          "text": [
            "Conditional Probability of making profit given Wednesday: 0.00\n"
          ]
        }
      ]
    },
    {
      "cell_type": "code",
      "source": [
        "# A4.7 Make a scatter plot of Chg% data against the day of the week\n",
        "\n",
        "import pandas as pd\n",
        "import numpy as np\n",
        "import statistics as st\n",
        "import matplotlib.pyplot as plt\n",
        "df = pd.read_excel(\"/content/Lab Session Data.xlsx\", sheet_name =\"IRCTC Stock Price\")\n",
        "\n",
        "\n",
        "# Convert the 'Date' column to datetime format\n",
        "df['Date'] = pd.to_datetime(df['Date'])\n",
        "\n",
        "# Extract the day of the week from the 'Date' column\n",
        "df['Day of Week'] = df['Date'].dt.dayofweek\n",
        "\n",
        "# Create a scatter plot of Chg% against the day of the week\n",
        "plt.scatter(df['Day of Week'], df['Chg%'])\n",
        "\n",
        "# Set the x-axis labels\n",
        "days_of_week = ['Monday', 'Tuesday', 'Wednesday', 'Thursday', 'Friday', 'Saturday', 'Sunday']\n",
        "plt.xticks(range(7), days_of_week)\n",
        "\n",
        "# Set the title and labels\n",
        "plt.title('Chg% vs Day of Week')\n",
        "plt.xlabel('Day of Week')\n",
        "plt.ylabel('Chg%')\n",
        "\n",
        "# Show the plot\n",
        "plt.show()"
      ],
      "metadata": {
        "colab": {
          "base_uri": "https://localhost:8080/",
          "height": 472
        },
        "id": "fZsiE7yOcTuJ",
        "outputId": "adac464e-df00-40fc-b97a-2323da1e5538"
      },
      "execution_count": 24,
      "outputs": [
        {
          "output_type": "display_data",
          "data": {
            "text/plain": [
              "<Figure size 640x480 with 1 Axes>"
            ],
            "image/png": "[encoded data removed]"
          },
          "metadata": {}
        }
      ]
    }
  ]
}