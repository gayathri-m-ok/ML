{
  "cells": [
    {
      "cell_type": "code",
      "source": [
        "# A6 Testing the accuracy\n",
        "import pandas as pd\n",
        "import numpy as np\n",
        "from sklearn.neighbors import KNeighborsClassifier\n",
        "from sklearn.preprocessing import LabelEncoder\n",
        "from sklearn.metrics import accuracy_score, classification_report, confusion_matrix\n",
        "\n",
        "df = pd.read_excel(\"/content/TRAINING_DATA.xlsx\")\n",
        "\n",
        "\n",
        "y_test = df.iloc[:, -1]\n",
        "X_test = df.iloc[:, :-1]\n",
        "\n",
        "\n",
        "if y_test.dtype != object:\n",
        "    le = LabelEncoder()\n",
        "    le.fit(y_test)\n",
        "\n",
        "    y_test = le.transform(y_test)\n",
        "\n",
        "\n",
        "classes = np.unique(y_test)\n",
        "if len(classes) > 2:\n",
        "    print(\"more than two classes so selecting two classes for now\")\n",
        "    class1, class2 = classes[0], classes[1]\n",
        "    X_test = X_test[(y_test == class1) | (y_test == class2)]\n",
        "    y_test = y_test[(y_test == class1) | (y_test == class2)]\n",
        "\n",
        "    neigh = KNeighborsClassifier(n_neighbors=3)\n",
        "\n",
        "neigh.fit(X, y)\n",
        "\n",
        "# Calculating the accuracy of the kNN classifier on the test set\n",
        "accuracy = neigh.score(X_test, y_test)\n",
        "print(\"Accuracy on testing data is as follows \\n\", accuracy)"
      ],
      "metadata": {
        "colab": {
          "base_uri": "https://localhost:8080/"
        },
        "id": "gx5WZFErILpW",
        "outputId": "653a0dd7-d30a-4ab6-cc90-4aa0f80b16c3"
      },
      "execution_count": 51,
      "outputs": [
        {
          "output_type": "stream",
          "name": "stdout",
          "text": [
            "more than two classes so selecting two classes for now\n",
            "Accuracy on testing data is as follows \n",
            " 0.9166666666666666\n"
          ]
        }
      ]
    }
  ],
  "metadata": {
    "accelerator": "GPU",
    "colab": {
      "gpuType": "T4",
      "provenance": []
    },
    "kernelspec": {
      "display_name": "Python 3",
      "name": "python3"
    },
    "language_info": {
      "name": "python"
    }
  },
  "nbformat": 4,
  "nbformat_minor": 0
}