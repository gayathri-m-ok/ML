{
  "nbformat": 4,
  "nbformat_minor": 0,
  "metadata": {
    "colab": {
      "provenance": []
    },
    "kernelspec": {
      "name": "python3",
      "display_name": "Python 3"
    },
    "language_info": {
      "name": "python"
    }
  },
  "cells": [
    {
      "cell_type": "code",
      "execution_count": 2,
      "metadata": {
        "colab": {
          "base_uri": "https://localhost:8080/"
        },
        "id": "JCycC2T8zxlr",
        "outputId": "da5d1a62-7b99-420b-96fa-fd585a1fe8d6"
      },
      "outputs": [
        {
          "output_type": "stream",
          "name": "stdout",
          "text": [
            "Model vector X for predicting product costs:\n",
            "[ 1. 55. 18.]\n"
          ]
        }
      ],
      "source": [
        "# A2 Pseudo-inverse to calculate the model vector X for predicting the cost of the product\n",
        "import pandas as pd\n",
        "import numpy as np\n",
        "df = pd.read_excel(\"/content/purchase_data.xlsx\")\n",
        "df = df.dropna(axis=1)\n",
        "\n",
        "\n",
        "A = df.iloc[:, 1:4].to_numpy()\n",
        "\n",
        "\n",
        "C = df.iloc[:, 4].to_numpy()\n",
        "\n",
        "\n",
        "A_inverse = np.linalg.pinv(A)\n",
        "\n",
        "model_vector_X = np.matmul(A_inverse, C)\n",
        "\n",
        "print(\"Model vector X for predicting product costs:\")\n",
        "print(model_vector_X)"
      ]
    }
  ]
}