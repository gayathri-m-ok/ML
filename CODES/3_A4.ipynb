{
  "cells": [
    {
      "cell_type": "code",
      "source": [
        "# A4 Divide dataset in your project into two parts – train & test set.\n",
        "import pandas as pd\n",
        "import numpy as np\n",
        "from sklearn.model_selection import train_test_split\n",
        "import matplotlib.pyplot as plt\n",
        "\n",
        "\n",
        "df = pd.read_excel(\"/content/TRAINING_DATA.xlsx\")\n",
        "\n",
        "X = df.iloc[:, :-1].values\n",
        "y = df.iloc[:, -1].values\n",
        "\n",
        "\n",
        "classes = np.unique(y)\n",
        "if len(classes) > 2:\n",
        "    print(\"Multi-class problem detected. Selecting two classes for now\")\n",
        "    class1, class2 = classes[0], classes[1]\n",
        "    X = X[(y == class1) | (y == class2)]\n",
        "    y = y[(y == class1) | (y == class2)]\n",
        "\n",
        "# Split the dataset into train and test sets\n",
        "\n",
        "X_train, X_test, y_train, y_test = train_test_split(X, y, test_size=0.2, random_state=42)\n",
        "\n",
        "print(\"Train set shape:\", X_train.shape, y_train.shape)\n",
        "print(\"Test set shape:\", X_test.shape, y_test.shape)\n"
      ],
      "metadata": {
        "colab": {
          "base_uri": "https://localhost:8080/"
        },
        "id": "F9Rhs85E-U4H",
        "outputId": "eb71c2e6-4502-4067-e1cd-1c05c8178c05"
      },
      "execution_count": 25,
      "outputs": [
        {
          "output_type": "stream",
          "name": "stdout",
          "text": [
            "Multi-class problem detected. Selecting two classes for now\n",
            "Train set shape: (9, 384) (9,)\n",
            "Test set shape: (3, 384) (3,)\n"
          ]
        }
      ]
    }
  ],
  "metadata": {
    "accelerator": "GPU",
    "colab": {
      "gpuType": "T4",
      "provenance": []
    },
    "kernelspec": {
      "display_name": "Python 3",
      "name": "python3"
    },
    "language_info": {
      "name": "python"
    }
  },
  "nbformat": 4,
  "nbformat_minor": 0
}