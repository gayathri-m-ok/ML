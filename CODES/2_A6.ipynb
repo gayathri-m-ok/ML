{
  "nbformat": 4,
  "nbformat_minor": 0,
  "metadata": {
    "colab": {
      "provenance": []
    },
    "kernelspec": {
      "name": "python3",
      "display_name": "Python 3"
    },
    "language_info": {
      "name": "python"
    }
  },
  "cells": [
    {
      "cell_type": "code",
      "source": [
        "\"\"\"# A6 . Data Imputation: employ appropriate central tendencies to fill the missing values in the data\n",
        "variables. Employ following guidance.\"\"\"\n",
        "\n",
        "import pandas as pd\n",
        "import numpy as np\n",
        "import matplotlib.pyplot as plt\n",
        "import seaborn as sns\n",
        "data = pd.read_excel(\"/content/Lab Session Data.xlsx\",sheet_name=\"thyroid0387_UCI\")\n",
        "numeric = 'numeric column'\n",
        "\n",
        "# Check if the column exists in the dataset\n",
        "if numeric in data.columns:\n",
        "    # Calculate the median of the numeric column\n",
        "    median_value = data[numeric].median()\n",
        "\n",
        "    # Fill missing values with the median\n",
        "    data[numeric].fillna(median_value, inplace=True)\n",
        "\n",
        "    # Check if there are any remaining missing values\n",
        "    missing_values = data.isnull().sum()\n",
        "    print(\"Missing Values After Imputation:\")\n",
        "    print(missing_values)\n",
        "else:\n",
        "    print(f\"'{numeric}' does not exist in the dataset.\")"
      ],
      "metadata": {
        "colab": {
          "base_uri": "https://localhost:8080/"
        },
        "id": "pziCoiYbKdEr",
        "outputId": "5175f441-888d-4811-bf26-72340b864816"
      },
      "execution_count": 2,
      "outputs": [
        {
          "output_type": "stream",
          "name": "stdout",
          "text": [
            "'numeric column' does not exist in the dataset.\n"
          ]
        }
      ]
    },
    {
      "cell_type": "code",
      "source": [
        "\n",
        "# A6.1,2,3\n",
        "import pandas as pd\n",
        "import numpy as np\n",
        "import matplotlib.pyplot as plt\n",
        "import seaborn as sns\n",
        "data = pd.read_excel(\"/content/Lab Session Data.xlsx\",sheet_name=\"thyroid0387_UCI\")\n",
        "# Verify the correct column name\n",
        "categorical_column = 'categorical_column'\n",
        "\n",
        "# Check if the column exists in the dataset\n",
        "if categorical_column in data.columns:\n",
        "    # Calculate the mode of the categorical column\n",
        "    mode_value = data[categorical_column].mode().iloc[0]\n",
        "\n",
        "    data[categorical_column].fillna(mode_value, inplace=True)\n",
        "\n",
        "    # Check if there are any remaining missing values\n",
        "    missing_values = data.isnull().sum()\n",
        "    print(\"Missing Values After Imputation:\")\n",
        "    print(missing_values)\n",
        "else:\n",
        "    print(f\"'{categorical_column}' does not exist in the dataset.\")"
      ],
      "metadata": {
        "colab": {
          "base_uri": "https://localhost:8080/"
        },
        "id": "D5fSCryQMFUV",
        "outputId": "889e1e15-507d-400d-9713-bedc5a3286af"
      },
      "execution_count": 3,
      "outputs": [
        {
          "output_type": "stream",
          "name": "stdout",
          "text": [
            "'categorical_column' does not exist in the dataset.\n"
          ]
        }
      ]
    },
    {
      "cell_type": "code",
      "source": [],
      "metadata": {
        "id": "KDgZLBs7MdZR"
      },
      "execution_count": null,
      "outputs": []
    }
  ]
}