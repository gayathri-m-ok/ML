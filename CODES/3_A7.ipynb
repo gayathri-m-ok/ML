{
  "cells": [
    {
      "cell_type": "code",
      "source": [
        "# A7 prediction behavior of the classifier for test vectors.\n",
        "\n",
        "import pandas as pd\n",
        "import numpy as np\n",
        "from sklearn.neighbors import KNeighborsClassifier\n",
        "from sklearn.preprocessing import LabelEncoder\n",
        "from sklearn.metrics import accuracy_score, classification_report, confusion_matrix\n",
        "\n",
        "df = pd.read_excel(\"/content/TRAINING_DATA.xlsx\")\n",
        "\n",
        "\n",
        "y_test = df.iloc[:, -1]\n",
        "X_test = df.iloc[:, :-1]\n",
        "\n",
        "\n",
        "if y_test.dtype != object:\n",
        "    le = LabelEncoder()\n",
        "    le.fit(y_test)\n",
        "\n",
        "    y_test = le.transform(y_test)\n",
        "\n",
        "\n",
        "classes = np.unique(y_test)\n",
        "if len(classes) > 2:\n",
        "    print(\"more than two classes so selecting two classes for now\")\n",
        "    class1, class2 = classes[0], classes[1]\n",
        "    X_test = X_test[(y_test == class1) | (y_test == class2)]\n",
        "    y_test = y_test[(y_test == class1) | (y_test == class2)]\n",
        "\n",
        "    neigh = KNeighborsClassifier(n_neighbors=3)\n",
        "\n",
        "neigh.fit(X, y)\n",
        "\n",
        "# Calculating the accuracy of the kNN classifier on the test set\n",
        "prediction = neigh.predict(X_test)\n",
        "print(\"Prediction on testing data is as follows \\n\", prediction)"
      ],
      "metadata": {
        "colab": {
          "base_uri": "https://localhost:8080/"
        },
        "id": "uqEc3PvFKXfK",
        "outputId": "061850a7-a654-42e3-ae49-5b510942c106"
      },
      "execution_count": 54,
      "outputs": [
        {
          "output_type": "stream",
          "name": "stdout",
          "text": [
            "more than two classes so selecting two classes for now\n",
            "Prediction on testing data is as follows \n",
            " [0 0 0 0 0 0 0 0 0 0 1 0]\n"
          ]
        }
      ]
    }
  ],
  "metadata": {
    "accelerator": "GPU",
    "colab": {
      "gpuType": "T4",
      "provenance": []
    },
    "kernelspec": {
      "display_name": "Python 3",
      "name": "python3"
    },
    "language_info": {
      "name": "python"
    }
  },
  "nbformat": 4,
  "nbformat_minor": 0
}